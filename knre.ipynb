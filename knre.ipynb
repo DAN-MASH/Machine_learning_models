{
  "nbformat": 4,
  "nbformat_minor": 0,
  "metadata": {
    "colab": {
      "provenance": [],
      "mount_file_id": "118k5xW-hSVc82e0WRXebDUveTukFbWwV",
      "authorship_tag": "ABX9TyMjJYdr9QEKSmXujB4VWQjg",
      "include_colab_link": true
    },
    "kernelspec": {
      "name": "python3",
      "display_name": "Python 3"
    },
    "language_info": {
      "name": "python"
    }
  },
  "cells": [
    {
      "cell_type": "markdown",
      "metadata": {
        "id": "view-in-github",
        "colab_type": "text"
      },
      "source": [
        "<a href=\"https://colab.research.google.com/github/DAN-MASH/Machine_learning_models/blob/main/knre.ipynb\" target=\"_parent\"><img src=\"https://colab.research.google.com/assets/colab-badge.svg\" alt=\"Open In Colab\"/></a>"
      ]
    },
    {
      "cell_type": "markdown",
      "source": [
        "Kenya Re-insurance Corporation (KNRA) STOCK ANALYSIS AND PREDICTION USING THE RNN-LSTM"
      ],
      "metadata": {
        "id": "JnT7qHWNifQ_"
      }
    },
    {
      "cell_type": "markdown",
      "source": [
        "Data source: https://www.wsj.com/market-data/quotes/KE/XNAI/KNRE/financials"
      ],
      "metadata": {
        "id": "EbyPygcri8Vc"
      }
    },
    {
      "cell_type": "code",
      "execution_count": 113,
      "metadata": {
        "id": "sUQ5JZQDXDIl"
      },
      "outputs": [],
      "source": [
        "#get stock data from the Nairobi Stock Exchange\n",
        "import yfinance as yf\n",
        "import pandas as pd\n",
        "import matplotlib.pyplot as plt\n",
        "import seaborn as sns\n",
        "import urllib.request\n",
        "import math\n",
        "import numpy as np\n",
        "sns.set_style('darkgrid')\n",
        "plt.style.use('fivethirtyeight')\n",
        "# plt.style.use('dark_background')\n",
        "from sklearn.preprocessing import MinMaxScaler\n",
        "from sklearn.metrics import mean_squared_error, mean_absolute_error,r2_score\n",
        "from keras.models import Sequential\n",
        "from keras.layers import Dense, LSTM, Dropout"
      ]
    },
    {
      "cell_type": "code",
      "source": [
        "url = \"/content/drive/MyDrive/Colab Notebooks/knre/HistoricalPrices (2).csv\""
      ],
      "metadata": {
        "id": "JQWjphS0ZerN"
      },
      "execution_count": 115,
      "outputs": []
    },
    {
      "cell_type": "code",
      "source": [
        "data = pd.read_csv(url)"
      ],
      "metadata": {
        "id": "5hDI8yaQbAc3"
      },
      "execution_count": 118,
      "outputs": []
    },
    {
      "cell_type": "code",
      "source": [
        "#read a stock data\n",
        "\n",
        "print(data.tail())"
      ],
      "metadata": {
        "colab": {
          "base_uri": "https://localhost:8080/"
        },
        "id": "deC53y2ubmmH",
        "outputId": "79e72c08-230f-4a26-d5c4-321f41058a9a"
      },
      "execution_count": null,
      "outputs": [
        {
          "output_type": "stream",
          "name": "stdout",
          "text": [
            "          Date   Open   High   Low   Close    Volume\n",
            "1553  06/05/18   2.19   2.21  2.13    2.19     88800\n",
            "1554  06/04/18   2.14   2.22  2.08    2.14  16617600\n",
            "1555  05/31/18   2.21   2.25  2.21    2.21    725600\n",
            "1556  05/30/18   2.23   2.25  2.21    2.23    105600\n",
            "1557  05/29/18   2.21   2.24  2.21    2.21   8368800\n"
          ]
        }
      ]
    },
    {
      "cell_type": "code",
      "source": [
        "data.info()"
      ],
      "metadata": {
        "colab": {
          "base_uri": "https://localhost:8080/"
        },
        "id": "f1ra-bhp2Nwk",
        "outputId": "7265b7ed-358c-46a8-c209-060f2fee0cff"
      },
      "execution_count": 119,
      "outputs": [
        {
          "output_type": "stream",
          "name": "stdout",
          "text": [
            "<class 'pandas.core.frame.DataFrame'>\n",
            "RangeIndex: 1558 entries, 0 to 1557\n",
            "Data columns (total 6 columns):\n",
            " #   Column   Non-Null Count  Dtype  \n",
            "---  ------   --------------  -----  \n",
            " 0   Date     1558 non-null   object \n",
            " 1    Open    1558 non-null   float64\n",
            " 2    High    1558 non-null   float64\n",
            " 3    Low     1558 non-null   float64\n",
            " 4    Close   1558 non-null   float64\n",
            " 5    Volume  1558 non-null   int64  \n",
            "dtypes: float64(4), int64(1), object(1)\n",
            "memory usage: 73.2+ KB\n"
          ]
        }
      ]
    },
    {
      "cell_type": "code",
      "source": [
        "data['Date'] = pd.to_datetime(data['Date'])"
      ],
      "metadata": {
        "colab": {
          "base_uri": "https://localhost:8080/"
        },
        "id": "toObDqXC2Xlx",
        "outputId": "f082a5ae-7c67-4022-b921-34ee95384e4f"
      },
      "execution_count": 127,
      "outputs": [
        {
          "output_type": "stream",
          "name": "stderr",
          "text": [
            "<ipython-input-127-1a72a8b5b870>:1: UserWarning: Could not infer format, so each element will be parsed individually, falling back to `dateutil`. To ensure parsing is consistent and as-expected, please specify a format.\n",
            "  data['Date'] = pd.to_datetime(data['Date'])\n"
          ]
        }
      ]
    },
    {
      "cell_type": "code",
      "source": [],
      "metadata": {
        "id": "908u0J4bsJyY"
      },
      "execution_count": 45,
      "outputs": []
    },
    {
      "cell_type": "code",
      "source": [
        "#Close Price History\n",
        "sns.set_style('darkgrid')\n",
        "#plt.style.use('dark_background')\n",
        "plt.style.use('fivethirtyeight')\n",
        "plt.style.use('dark_background')\n",
        "plt.figure(figsize = (16,8))\n",
        "plt.plot(data['Date'],data[' Close'],color = 'red')\n",
        "plt.xlabel('Date', fontsize=18)\n",
        "plt.ylabel('Closing Price (KSH)',fontsize=18)\n",
        "plt.title(\"Close Price History\")\n",
        "plt.grid()\n",
        "#add a dark background to the chart\n",
        "\n",
        "plt.show()\n",
        "\n",
        "\n"
      ],
      "metadata": {
        "colab": {
          "base_uri": "https://localhost:8080/",
          "height": 495
        },
        "id": "T0edijgpZiKS",
        "outputId": "760ca095-1261-4748-fdf7-67c99fea6585"
      },
      "execution_count": 120,
      "outputs": [
        {
          "output_type": "display_data",
          "data": {
            "text/plain": [
              "<Figure size 1600x800 with 1 Axes>"
            ],
            "image/png": "[encoded data removed]"
          },
          "metadata": {}
        }
      ]
    },
    {
      "cell_type": "code",
      "source": [
        "data_2019 = data[data['Date'].dt.year== 2019]"
      ],
      "metadata": {
        "id": "V2PV7ejUaGAG"
      },
      "execution_count": 9,
      "outputs": []
    },
    {
      "cell_type": "code",
      "source": [
        "# Plot the filtered data\n",
        "plt.style.use('dark_background')\n",
        "plt.figure(figsize = (12,6))\n",
        "plt.plot(data_2019['Date'], data_2019[' Close'], color='red')\n",
        "plt.title('Close Price History')\n",
        "plt.xlabel('Date')\n",
        "plt.ylabel('Closing Price (KSH)')\n",
        "#plt.grid()\n",
        "plt.show()"
      ],
      "metadata": {
        "id": "Cyg3ij4EnSdM",
        "colab": {
          "base_uri": "https://localhost:8080/",
          "height": 508
        },
        "outputId": "7e17a092-5ce2-4dfb-c48b-dbc97524f186"
      },
      "execution_count": 22,
      "outputs": [
        {
          "output_type": "display_data",
          "data": {
            "text/plain": [
              "<Figure size 1200x600 with 1 Axes>"
            ],
            "image/png": "[encoded data removed]"
          },
          "metadata": {}
        }
      ]
    },
    {
      "cell_type": "code",
      "source": [
        "data.head()"
      ],
      "metadata": {
        "colab": {
          "base_uri": "https://localhost:8080/",
          "height": 206
        },
        "id": "V51WS8Nuohxy",
        "outputId": "391f6a53-def6-41ef-c036-86737e23e2e2"
      },
      "execution_count": 32,
      "outputs": [
        {
          "output_type": "execute_result",
          "data": {
            "text/plain": [
              "        Date   Open   High   Low   Close   Volume\n",
              "0 2024-08-26   1.20   1.20  1.08    1.10   961400\n",
              "1 2024-08-23   1.22   1.22  1.19    1.20   339900\n",
              "2 2024-08-22   1.24   1.24  1.19    1.21   425100\n",
              "3 2024-08-21   1.25   1.25  1.20    1.20   358500\n",
              "4 2024-08-20   1.25   1.25  1.21    1.24   255800"
            ],
            "text/html": [
              "\n",
              "  <div id=\"df-12e06e34-0a34-455f-b397-391af7a8c296\" class=\"colab-df-container\">\n",
              "    <div>\n",
              "<style scoped>\n",
              "    .dataframe tbody tr th:only-of-type {\n",
              "        vertical-align: middle;\n",
              "    }\n",
              "\n",
              "    .dataframe tbody tr th {\n",
              "        vertical-align: top;\n",
              "    }\n",
              "\n",
              "    .dataframe thead th {\n",
              "        text-align: right;\n",
              "    }\n",
              "</style>\n",
              "<table border=\"1\" class=\"dataframe\">\n",
              "  <thead>\n",
              "    <tr style=\"text-align: right;\">\n",
              "      <th></th>\n",
              "      <th>Date</th>\n",
              "      <th>Open</th>\n",
              "      <th>High</th>\n",
              "      <th>Low</th>\n",
              "      <th>Close</th>\n",
              "      <th>Volume</th>\n",
              "    </tr>\n",
              "  </thead>\n",
              "  <tbody>\n",
              "    <tr>\n",
              "      <th>0</th>\n",
              "      <td>2024-08-26</td>\n",
              "      <td>1.20</td>\n",
              "      <td>1.20</td>\n",
              "      <td>1.08</td>\n",
              "      <td>1.10</td>\n",
              "      <td>961400</td>\n",
              "    </tr>\n",
              "    <tr>\n",
              "      <th>1</th>\n",
              "      <td>2024-08-23</td>\n",
              "      <td>1.22</td>\n",
              "      <td>1.22</td>\n",
              "      <td>1.19</td>\n",
              "      <td>1.20</td>\n",
              "      <td>339900</td>\n",
              "    </tr>\n",
              "    <tr>\n",
              "      <th>2</th>\n",
              "      <td>2024-08-22</td>\n",
              "      <td>1.24</td>\n",
              "      <td>1.24</td>\n",
              "      <td>1.19</td>\n",
              "      <td>1.21</td>\n",
              "      <td>425100</td>\n",
              "    </tr>\n",
              "    <tr>\n",
              "      <th>3</th>\n",
              "      <td>2024-08-21</td>\n",
              "      <td>1.25</td>\n",
              "      <td>1.25</td>\n",
              "      <td>1.20</td>\n",
              "      <td>1.20</td>\n",
              "      <td>358500</td>\n",
              "    </tr>\n",
              "    <tr>\n",
              "      <th>4</th>\n",
              "      <td>2024-08-20</td>\n",
              "      <td>1.25</td>\n",
              "      <td>1.25</td>\n",
              "      <td>1.21</td>\n",
              "      <td>1.24</td>\n",
              "      <td>255800</td>\n",
              "    </tr>\n",
              "  </tbody>\n",
              "</table>\n",
              "</div>\n",
              "    <div class=\"colab-df-buttons\">\n",
              "\n",
              "  <div class=\"colab-df-container\">\n",
              "    <button class=\"colab-df-convert\" onclick=\"convertToInteractive('df-12e06e34-0a34-455f-b397-391af7a8c296')\"\n",
              "            title=\"Convert this dataframe to an interactive table.\"\n",
              "            style=\"display:none;\">\n",
              "\n",
              "  <svg xmlns=\"http://www.w3.org/2000/svg\" height=\"24px\" viewBox=\"0 -960 960 960\">\n",
              "    <path d=\"M120-120v-720h720v720H120Zm60-500h600v-160H180v160Zm220 220h160v-160H400v160Zm0 220h160v-160H400v160ZM180-400h160v-160H180v160Zm440 0h160v-160H620v160ZM180-180h160v-160H180v160Zm440 0h160v-160H620v160Z\"/>\n",
              "  </svg>\n",
              "    </button>\n",
              "\n",
              "  <style>\n",
              "    .colab-df-container {\n",
              "      display:flex;\n",
              "      gap: 12px;\n",
              "    }\n",
              "\n",
              "    .colab-df-convert {\n",
              "      background-color: #E8F0FE;\n",
              "      border: none;\n",
              "      border-radius: 50%;\n",
              "      cursor: pointer;\n",
              "      display: none;\n",
              "      fill: #1967D2;\n",
              "      height: 32px;\n",
              "      padding: 0 0 0 0;\n",
              "      width: 32px;\n",
              "    }\n",
              "\n",
              "    .colab-df-convert:hover {\n",
              "      background-color: #E2EBFA;\n",
              "      box-shadow: 0px 1px 2px rgba(60, 64, 67, 0.3), 0px 1px 3px 1px rgba(60, 64, 67, 0.15);\n",
              "      fill: #174EA6;\n",
              "    }\n",
              "\n",
              "    .colab-df-buttons div {\n",
              "      margin-bottom: 4px;\n",
              "    }\n",
              "\n",
              "    [theme=dark] .colab-df-convert {\n",
              "      background-color: #3B4455;\n",
              "      fill: #D2E3FC;\n",
              "    }\n",
              "\n",
              "    [theme=dark] .colab-df-convert:hover {\n",
              "      background-color: #434B5C;\n",
              "      box-shadow: 0px 1px 3px 1px rgba(0, 0, 0, 0.15);\n",
              "      filter: drop-shadow(0px 1px 2px rgba(0, 0, 0, 0.3));\n",
              "      fill: #FFFFFF;\n",
              "    }\n",
              "  </style>\n",
              "\n",
              "    <script>\n",
              "      const buttonEl =\n",
              "        document.querySelector('#df-12e06e34-0a34-455f-b397-391af7a8c296 button.colab-df-convert');\n",
              "      buttonEl.style.display =\n",
              "        google.colab.kernel.accessAllowed ? 'block' : 'none';\n",
              "\n",
              "      async function convertToInteractive(key) {\n",
              "        const element = document.querySelector('#df-12e06e34-0a34-455f-b397-391af7a8c296');\n",
              "        const dataTable =\n",
              "          await google.colab.kernel.invokeFunction('convertToInteractive',\n",
              "                                                    [key], {});\n",
              "        if (!dataTable) return;\n",
              "\n",
              "        const docLinkHtml = 'Like what you see? Visit the ' +\n",
              "          '<a target=\"_blank\" href=https://colab.research.google.com/notebooks/data_table.ipynb>data table notebook</a>'\n",
              "          + ' to learn more about interactive tables.';\n",
              "        element.innerHTML = '';\n",
              "        dataTable['output_type'] = 'display_data';\n",
              "        await google.colab.output.renderOutput(dataTable, element);\n",
              "        const docLink = document.createElement('div');\n",
              "        docLink.innerHTML = docLinkHtml;\n",
              "        element.appendChild(docLink);\n",
              "      }\n",
              "    </script>\n",
              "  </div>\n",
              "\n",
              "\n",
              "<div id=\"df-bb5df4fd-02cc-42c4-9d9f-178ebcdb2429\">\n",
              "  <button class=\"colab-df-quickchart\" onclick=\"quickchart('df-bb5df4fd-02cc-42c4-9d9f-178ebcdb2429')\"\n",
              "            title=\"Suggest charts\"\n",
              "            style=\"display:none;\">\n",
              "\n",
              "<svg xmlns=\"http://www.w3.org/2000/svg\" height=\"24px\"viewBox=\"0 0 24 24\"\n",
              "     width=\"24px\">\n",
              "    <g>\n",
              "        <path d=\"M19 3H5c-1.1 0-2 .9-2 2v14c0 1.1.9 2 2 2h14c1.1 0 2-.9 2-2V5c0-1.1-.9-2-2-2zM9 17H7v-7h2v7zm4 0h-2V7h2v10zm4 0h-2v-4h2v4z\"/>\n",
              "    </g>\n",
              "</svg>\n",
              "  </button>\n",
              "\n",
              "<style>\n",
              "  .colab-df-quickchart {\n",
              "      --bg-color: #E8F0FE;\n",
              "      --fill-color: #1967D2;\n",
              "      --hover-bg-color: #E2EBFA;\n",
              "      --hover-fill-color: #174EA6;\n",
              "      --disabled-fill-color: #AAA;\n",
              "      --disabled-bg-color: #DDD;\n",
              "  }\n",
              "\n",
              "  [theme=dark] .colab-df-quickchart {\n",
              "      --bg-color: #3B4455;\n",
              "      --fill-color: #D2E3FC;\n",
              "      --hover-bg-color: #434B5C;\n",
              "      --hover-fill-color: #FFFFFF;\n",
              "      --disabled-bg-color: #3B4455;\n",
              "      --disabled-fill-color: #666;\n",
              "  }\n",
              "\n",
              "  .colab-df-quickchart {\n",
              "    background-color: var(--bg-color);\n",
              "    border: none;\n",
              "    border-radius: 50%;\n",
              "    cursor: pointer;\n",
              "    display: none;\n",
              "    fill: var(--fill-color);\n",
              "    height: 32px;\n",
              "    padding: 0;\n",
              "    width: 32px;\n",
              "  }\n",
              "\n",
              "  .colab-df-quickchart:hover {\n",
              "    background-color: var(--hover-bg-color);\n",
              "    box-shadow: 0 1px 2px rgba(60, 64, 67, 0.3), 0 1px 3px 1px rgba(60, 64, 67, 0.15);\n",
              "    fill: var(--button-hover-fill-color);\n",
              "  }\n",
              "\n",
              "  .colab-df-quickchart-complete:disabled,\n",
              "  .colab-df-quickchart-complete:disabled:hover {\n",
              "    background-color: var(--disabled-bg-color);\n",
              "    fill: var(--disabled-fill-color);\n",
              "    box-shadow: none;\n",
              "  }\n",
              "\n",
              "  .colab-df-spinner {\n",
              "    border: 2px solid var(--fill-color);\n",
              "    border-color: transparent;\n",
              "    border-bottom-color: var(--fill-color);\n",
              "    animation:\n",
              "      spin 1s steps(1) infinite;\n",
              "  }\n",
              "\n",
              "  @keyframes spin {\n",
              "    0% {\n",
              "      border-color: transparent;\n",
              "      border-bottom-color: var(--fill-color);\n",
              "      border-left-color: var(--fill-color);\n",
              "    }\n",
              "    20% {\n",
              "      border-color: transparent;\n",
              "      border-left-color: var(--fill-color);\n",
              "      border-top-color: var(--fill-color);\n",
              "    }\n",
              "    30% {\n",
              "      border-color: transparent;\n",
              "      border-left-color: var(--fill-color);\n",
              "      border-top-color: var(--fill-color);\n",
              "      border-right-color: var(--fill-color);\n",
              "    }\n",
              "    40% {\n",
              "      border-color: transparent;\n",
              "      border-right-color: var(--fill-color);\n",
              "      border-top-color: var(--fill-color);\n",
              "    }\n",
              "    60% {\n",
              "      border-color: transparent;\n",
              "      border-right-color: var(--fill-color);\n",
              "    }\n",
              "    80% {\n",
              "      border-color: transparent;\n",
              "      border-right-color: var(--fill-color);\n",
              "      border-bottom-color: var(--fill-color);\n",
              "    }\n",
              "    90% {\n",
              "      border-color: transparent;\n",
              "      border-bottom-color: var(--fill-color);\n",
              "    }\n",
              "  }\n",
              "</style>\n",
              "\n",
              "  <script>\n",
              "    async function quickchart(key) {\n",
              "      const quickchartButtonEl =\n",
              "        document.querySelector('#' + key + ' button');\n",
              "      quickchartButtonEl.disabled = true;  // To prevent multiple clicks.\n",
              "      quickchartButtonEl.classList.add('colab-df-spinner');\n",
              "      try {\n",
              "        const charts = await google.colab.kernel.invokeFunction(\n",
              "            'suggestCharts', [key], {});\n",
              "      } catch (error) {\n",
              "        console.error('Error during call to suggestCharts:', error);\n",
              "      }\n",
              "      quickchartButtonEl.classList.remove('colab-df-spinner');\n",
              "      quickchartButtonEl.classList.add('colab-df-quickchart-complete');\n",
              "    }\n",
              "    (() => {\n",
              "      let quickchartButtonEl =\n",
              "        document.querySelector('#df-bb5df4fd-02cc-42c4-9d9f-178ebcdb2429 button');\n",
              "      quickchartButtonEl.style.display =\n",
              "        google.colab.kernel.accessAllowed ? 'block' : 'none';\n",
              "    })();\n",
              "  </script>\n",
              "</div>\n",
              "\n",
              "    </div>\n",
              "  </div>\n"
            ],
            "application/vnd.google.colaboratory.intrinsic+json": {
              "type": "dataframe",
              "variable_name": "data",
              "summary": "{\n  \"name\": \"data\",\n  \"rows\": 1558,\n  \"fields\": [\n    {\n      \"column\": \"Date\",\n      \"properties\": {\n        \"dtype\": \"date\",\n        \"min\": \"2018-05-29 00:00:00\",\n        \"max\": \"2024-08-26 00:00:00\",\n        \"num_unique_values\": 1558,\n        \"samples\": [\n          \"2019-02-26 00:00:00\",\n          \"2023-12-21 00:00:00\",\n          \"2023-03-23 00:00:00\"\n        ],\n        \"semantic_type\": \"\",\n        \"description\": \"\"\n      }\n    },\n    {\n      \"column\": \" Open\",\n      \"properties\": {\n        \"dtype\": \"number\",\n        \"std\": 0.3397857087046208,\n        \"min\": 0.76,\n        \"max\": 2.23,\n        \"num_unique_values\": 125,\n        \"samples\": [\n          1.4,\n          0.92,\n          1.05\n        ],\n        \"semantic_type\": \"\",\n        \"description\": \"\"\n      }\n    },\n    {\n      \"column\": \" High\",\n      \"properties\": {\n        \"dtype\": \"number\",\n        \"std\": 0.3795987151843144,\n        \"min\": 0.81,\n        \"max\": 6.95,\n        \"num_unique_values\": 135,\n        \"samples\": [\n          1.86,\n          1.46,\n          1.72\n        ],\n        \"semantic_type\": \"\",\n        \"description\": \"\"\n      }\n    },\n    {\n      \"column\": \" Low\",\n      \"properties\": {\n        \"dtype\": \"number\",\n        \"std\": 0.34157939630632633,\n        \"min\": 0.75,\n        \"max\": 2.21,\n        \"num_unique_values\": 121,\n        \"samples\": [\n          0.86,\n          0.81,\n          1.17\n        ],\n        \"semantic_type\": \"\",\n        \"description\": \"\"\n      }\n    },\n    {\n      \"column\": \" Close\",\n      \"properties\": {\n        \"dtype\": \"number\",\n        \"std\": 0.34322771339205926,\n        \"min\": 0.77,\n        \"max\": 2.23,\n        \"num_unique_values\": 125,\n        \"samples\": [\n          1.42,\n          0.87,\n          1.08\n        ],\n        \"semantic_type\": \"\",\n        \"description\": \"\"\n      }\n    },\n    {\n      \"column\": \" Volume\",\n      \"properties\": {\n        \"dtype\": \"number\",\n        \"std\": 3902988,\n        \"min\": 4600,\n        \"max\": 64064800,\n        \"num_unique_values\": 1247,\n        \"samples\": [\n          1602600,\n          3672000,\n          7457400\n        ],\n        \"semantic_type\": \"\",\n        \"description\": \"\"\n      }\n    }\n  ]\n}"
            }
          },
          "metadata": {},
          "execution_count": 32
        }
      ]
    },
    {
      "cell_type": "code",
      "source": [
        "data.shape"
      ],
      "metadata": {
        "colab": {
          "base_uri": "https://localhost:8080/"
        },
        "id": "qHXVEfAjomad",
        "outputId": "15f4783b-b5cc-4360-96e1-359f1f2fc00a"
      },
      "execution_count": 34,
      "outputs": [
        {
          "output_type": "execute_result",
          "data": {
            "text/plain": [
              "(1558, 6)"
            ]
          },
          "metadata": {},
          "execution_count": 34
        }
      ]
    },
    {
      "cell_type": "code",
      "source": [
        "#create a new dataframe with only the close column\n",
        "df = data.filter([' Close'])\n",
        "#convert the dataframe to numpy array\n",
        "dataset = df.values\n",
        "#get the number of rows to train the model on\n",
        "training_data_len = math.ceil(len(dataset)*0.8)\n"
      ],
      "metadata": {
        "id": "Igm28Pqdpc4W"
      },
      "execution_count": 59,
      "outputs": []
    },
    {
      "cell_type": "code",
      "source": [
        "training_data_len"
      ],
      "metadata": {
        "colab": {
          "base_uri": "https://localhost:8080/"
        },
        "id": "17TivfTMuB1R",
        "outputId": "2b8f1731-9dd5-4c12-fa9f-65205f2f2f51"
      },
      "execution_count": 60,
      "outputs": [
        {
          "output_type": "execute_result",
          "data": {
            "text/plain": [
              "1247"
            ]
          },
          "metadata": {},
          "execution_count": 60
        }
      ]
    },
    {
      "cell_type": "code",
      "source": [
        "dataset"
      ],
      "metadata": {
        "colab": {
          "base_uri": "https://localhost:8080/"
        },
        "id": "VtPM1jUj22ux",
        "outputId": "d20ad609-15ab-44de-8a1d-628186695f34"
      },
      "execution_count": 65,
      "outputs": [
        {
          "output_type": "execute_result",
          "data": {
            "text/plain": [
              "array([[1.1 ],\n",
              "       [1.2 ],\n",
              "       [1.21],\n",
              "       ...,\n",
              "       [2.21],\n",
              "       [2.23],\n",
              "       [2.21]])"
            ]
          },
          "metadata": {},
          "execution_count": 65
        }
      ]
    },
    {
      "cell_type": "code",
      "source": [
        "#scale the data by applying preprocessing transformations/normalization\n",
        "scaler = MinMaxScaler(feature_range=(0,1))\n",
        "scaled_data = scaler.fit_transform(dataset)\n",
        "scaled_data"
      ],
      "metadata": {
        "colab": {
          "base_uri": "https://localhost:8080/"
        },
        "id": "dCHUMIj2uCMh",
        "outputId": "4deefdfb-cfb4-4017-a400-597aa3da7453"
      },
      "execution_count": 63,
      "outputs": [
        {
          "output_type": "execute_result",
          "data": {
            "text/plain": [
              "array([[0.2260274 ],\n",
              "       [0.29452055],\n",
              "       [0.30136986],\n",
              "       ...,\n",
              "       [0.98630137],\n",
              "       [1.        ],\n",
              "       [0.98630137]])"
            ]
          },
          "metadata": {},
          "execution_count": 63
        }
      ]
    },
    {
      "cell_type": "code",
      "source": [
        "#train the data using the last 641 days\n",
        "#create the training dataset\n",
        "#create the scaled training dataset\n",
        "train_data = scaled_data[0:training_data_len, :]\n",
        "#split the data into x_train and y_train\n",
        "X_train = []\n",
        "y_train = []\n",
        "for i in range(641, len(train_data)):\n",
        "  X_train.append(train_data[i-241:i,0])\n",
        "  y_train.append(train_data[i,0])\n",
        "  if i<=642:\n",
        "    print(X_train)\n",
        "    print(y_train)\n",
        "    print()"
      ],
      "metadata": {
        "colab": {
          "base_uri": "https://localhost:8080/"
        },
        "id": "Ixk5y1jczon8",
        "outputId": "bae59bf0-0276-46ce-9243-bd7f0e36ff93"
      },
      "execution_count": 72,
      "outputs": [
        {
          "output_type": "stream",
          "name": "stdout",
          "text": [
            "[array([0.0890411 , 0.09589041, 0.10958904, 0.10958904, 0.10958904,\n",
            "       0.12328767, 0.13013699, 0.12328767, 0.11643836, 0.10958904,\n",
            "       0.11643836, 0.10273973, 0.10958904, 0.10958904, 0.10958904,\n",
            "       0.10273973, 0.10958904, 0.10958904, 0.10958904, 0.10958904,\n",
            "       0.12328767, 0.08219178, 0.12328767, 0.12328767, 0.09589041,\n",
            "       0.09589041, 0.09589041, 0.09589041, 0.11643836, 0.0890411 ,\n",
            "       0.06849315, 0.12328767, 0.11643836, 0.11643836, 0.0890411 ,\n",
            "       0.09589041, 0.09589041, 0.10273973, 0.10273973, 0.10958904,\n",
            "       0.11643836, 0.11643836, 0.12328767, 0.11643836, 0.12328767,\n",
            "       0.11643836, 0.09589041, 0.10958904, 0.11643836, 0.11643836,\n",
            "       0.11643836, 0.11643836, 0.1369863 , 0.12328767, 0.14383562,\n",
            "       0.13013699, 0.12328767, 0.10958904, 0.10958904, 0.12328767,\n",
            "       0.15068493, 0.13013699, 0.15753425, 0.14383562, 0.13013699,\n",
            "       0.13013699, 0.15068493, 0.15753425, 0.15753425, 0.15068493,\n",
            "       0.14383562, 0.15068493, 0.15068493, 0.15753425, 0.16438356,\n",
            "       0.17123288, 0.17808219, 0.17808219, 0.16438356, 0.17123288,\n",
            "       0.17808219, 0.19178082, 0.21232877, 0.21917808, 0.21232877,\n",
            "       0.21232877, 0.19178082, 0.19178082, 0.19863014, 0.19178082,\n",
            "       0.19178082, 0.19863014, 0.17123288, 0.17808219, 0.19178082,\n",
            "       0.19178082, 0.21232877, 0.19863014, 0.21232877, 0.21232877,\n",
            "       0.21232877, 0.20547945, 0.19863014, 0.19178082, 0.19863014,\n",
            "       0.19178082, 0.19178082, 0.17123288, 0.17123288, 0.17123288,\n",
            "       0.16438356, 0.17123288, 0.17123288, 0.15753425, 0.15753425,\n",
            "       0.15753425, 0.15753425, 0.17123288, 0.16438356, 0.17123288,\n",
            "       0.17123288, 0.16438356, 0.17808219, 0.15753425, 0.19178082,\n",
            "       0.17808219, 0.17123288, 0.16438356, 0.17808219, 0.17808219,\n",
            "       0.17123288, 0.17808219, 0.17808219, 0.17123288, 0.15753425,\n",
            "       0.1369863 , 0.14383562, 0.15068493, 0.15753425, 0.15068493,\n",
            "       0.15068493, 0.15753425, 0.16438356, 0.16438356, 0.18493151,\n",
            "       0.18493151, 0.19863014, 0.19178082, 0.19863014, 0.20547945,\n",
            "       0.17808219, 0.17123288, 0.15753425, 0.19863014, 0.17808219,\n",
            "       0.18493151, 0.17808219, 0.17123288, 0.17123288, 0.15753425,\n",
            "       0.16438356, 0.15753425, 0.17123288, 0.15753425, 0.17123288,\n",
            "       0.21232877, 0.23972603, 0.23287671, 0.21232877, 0.24657534,\n",
            "       0.23972603, 0.2260274 , 0.21917808, 0.21232877, 0.21232877,\n",
            "       0.21232877, 0.20547945, 0.19178082, 0.20547945, 0.20547945,\n",
            "       0.19863014, 0.21232877, 0.21232877, 0.2260274 , 0.2260274 ,\n",
            "       0.23972603, 0.23972603, 0.23972603, 0.23972603, 0.2260274 ,\n",
            "       0.21917808, 0.2260274 , 0.23287671, 0.24657534, 0.25342466,\n",
            "       0.25342466, 0.24657534, 0.24657534, 0.24657534, 0.24657534,\n",
            "       0.24657534, 0.24657534, 0.25342466, 0.25342466, 0.26027397,\n",
            "       0.24657534, 0.25342466, 0.25342466, 0.24657534, 0.25342466,\n",
            "       0.24657534, 0.25342466, 0.26027397, 0.25342466, 0.23972603,\n",
            "       0.25342466, 0.25342466, 0.25342466, 0.24657534, 0.25342466,\n",
            "       0.24657534, 0.25342466, 0.24657534, 0.25342466, 0.24657534,\n",
            "       0.25342466, 0.23972603, 0.24657534, 0.23972603, 0.23287671,\n",
            "       0.23287671, 0.25342466, 0.23287671, 0.23972603, 0.25342466,\n",
            "       0.25342466, 0.24657534, 0.23287671, 0.23287671, 0.25342466,\n",
            "       0.26712329])]\n",
            "[0.2534246575342465]\n",
            "\n",
            "[array([0.0890411 , 0.09589041, 0.10958904, 0.10958904, 0.10958904,\n",
            "       0.12328767, 0.13013699, 0.12328767, 0.11643836, 0.10958904,\n",
            "       0.11643836, 0.10273973, 0.10958904, 0.10958904, 0.10958904,\n",
            "       0.10273973, 0.10958904, 0.10958904, 0.10958904, 0.10958904,\n",
            "       0.12328767, 0.08219178, 0.12328767, 0.12328767, 0.09589041,\n",
            "       0.09589041, 0.09589041, 0.09589041, 0.11643836, 0.0890411 ,\n",
            "       0.06849315, 0.12328767, 0.11643836, 0.11643836, 0.0890411 ,\n",
            "       0.09589041, 0.09589041, 0.10273973, 0.10273973, 0.10958904,\n",
            "       0.11643836, 0.11643836, 0.12328767, 0.11643836, 0.12328767,\n",
            "       0.11643836, 0.09589041, 0.10958904, 0.11643836, 0.11643836,\n",
            "       0.11643836, 0.11643836, 0.1369863 , 0.12328767, 0.14383562,\n",
            "       0.13013699, 0.12328767, 0.10958904, 0.10958904, 0.12328767,\n",
            "       0.15068493, 0.13013699, 0.15753425, 0.14383562, 0.13013699,\n",
            "       0.13013699, 0.15068493, 0.15753425, 0.15753425, 0.15068493,\n",
            "       0.14383562, 0.15068493, 0.15068493, 0.15753425, 0.16438356,\n",
            "       0.17123288, 0.17808219, 0.17808219, 0.16438356, 0.17123288,\n",
            "       0.17808219, 0.19178082, 0.21232877, 0.21917808, 0.21232877,\n",
            "       0.21232877, 0.19178082, 0.19178082, 0.19863014, 0.19178082,\n",
            "       0.19178082, 0.19863014, 0.17123288, 0.17808219, 0.19178082,\n",
            "       0.19178082, 0.21232877, 0.19863014, 0.21232877, 0.21232877,\n",
            "       0.21232877, 0.20547945, 0.19863014, 0.19178082, 0.19863014,\n",
            "       0.19178082, 0.19178082, 0.17123288, 0.17123288, 0.17123288,\n",
            "       0.16438356, 0.17123288, 0.17123288, 0.15753425, 0.15753425,\n",
            "       0.15753425, 0.15753425, 0.17123288, 0.16438356, 0.17123288,\n",
            "       0.17123288, 0.16438356, 0.17808219, 0.15753425, 0.19178082,\n",
            "       0.17808219, 0.17123288, 0.16438356, 0.17808219, 0.17808219,\n",
            "       0.17123288, 0.17808219, 0.17808219, 0.17123288, 0.15753425,\n",
            "       0.1369863 , 0.14383562, 0.15068493, 0.15753425, 0.15068493,\n",
            "       0.15068493, 0.15753425, 0.16438356, 0.16438356, 0.18493151,\n",
            "       0.18493151, 0.19863014, 0.19178082, 0.19863014, 0.20547945,\n",
            "       0.17808219, 0.17123288, 0.15753425, 0.19863014, 0.17808219,\n",
            "       0.18493151, 0.17808219, 0.17123288, 0.17123288, 0.15753425,\n",
            "       0.16438356, 0.15753425, 0.17123288, 0.15753425, 0.17123288,\n",
            "       0.21232877, 0.23972603, 0.23287671, 0.21232877, 0.24657534,\n",
            "       0.23972603, 0.2260274 , 0.21917808, 0.21232877, 0.21232877,\n",
            "       0.21232877, 0.20547945, 0.19178082, 0.20547945, 0.20547945,\n",
            "       0.19863014, 0.21232877, 0.21232877, 0.2260274 , 0.2260274 ,\n",
            "       0.23972603, 0.23972603, 0.23972603, 0.23972603, 0.2260274 ,\n",
            "       0.21917808, 0.2260274 , 0.23287671, 0.24657534, 0.25342466,\n",
            "       0.25342466, 0.24657534, 0.24657534, 0.24657534, 0.24657534,\n",
            "       0.24657534, 0.24657534, 0.25342466, 0.25342466, 0.26027397,\n",
            "       0.24657534, 0.25342466, 0.25342466, 0.24657534, 0.25342466,\n",
            "       0.24657534, 0.25342466, 0.26027397, 0.25342466, 0.23972603,\n",
            "       0.25342466, 0.25342466, 0.25342466, 0.24657534, 0.25342466,\n",
            "       0.24657534, 0.25342466, 0.24657534, 0.25342466, 0.24657534,\n",
            "       0.25342466, 0.23972603, 0.24657534, 0.23972603, 0.23287671,\n",
            "       0.23287671, 0.25342466, 0.23287671, 0.23972603, 0.25342466,\n",
            "       0.25342466, 0.24657534, 0.23287671, 0.23287671, 0.25342466,\n",
            "       0.26712329]), array([0.09589041, 0.10958904, 0.10958904, 0.10958904, 0.12328767,\n",
            "       0.13013699, 0.12328767, 0.11643836, 0.10958904, 0.11643836,\n",
            "       0.10273973, 0.10958904, 0.10958904, 0.10958904, 0.10273973,\n",
            "       0.10958904, 0.10958904, 0.10958904, 0.10958904, 0.12328767,\n",
            "       0.08219178, 0.12328767, 0.12328767, 0.09589041, 0.09589041,\n",
            "       0.09589041, 0.09589041, 0.11643836, 0.0890411 , 0.06849315,\n",
            "       0.12328767, 0.11643836, 0.11643836, 0.0890411 , 0.09589041,\n",
            "       0.09589041, 0.10273973, 0.10273973, 0.10958904, 0.11643836,\n",
            "       0.11643836, 0.12328767, 0.11643836, 0.12328767, 0.11643836,\n",
            "       0.09589041, 0.10958904, 0.11643836, 0.11643836, 0.11643836,\n",
            "       0.11643836, 0.1369863 , 0.12328767, 0.14383562, 0.13013699,\n",
            "       0.12328767, 0.10958904, 0.10958904, 0.12328767, 0.15068493,\n",
            "       0.13013699, 0.15753425, 0.14383562, 0.13013699, 0.13013699,\n",
            "       0.15068493, 0.15753425, 0.15753425, 0.15068493, 0.14383562,\n",
            "       0.15068493, 0.15068493, 0.15753425, 0.16438356, 0.17123288,\n",
            "       0.17808219, 0.17808219, 0.16438356, 0.17123288, 0.17808219,\n",
            "       0.19178082, 0.21232877, 0.21917808, 0.21232877, 0.21232877,\n",
            "       0.19178082, 0.19178082, 0.19863014, 0.19178082, 0.19178082,\n",
            "       0.19863014, 0.17123288, 0.17808219, 0.19178082, 0.19178082,\n",
            "       0.21232877, 0.19863014, 0.21232877, 0.21232877, 0.21232877,\n",
            "       0.20547945, 0.19863014, 0.19178082, 0.19863014, 0.19178082,\n",
            "       0.19178082, 0.17123288, 0.17123288, 0.17123288, 0.16438356,\n",
            "       0.17123288, 0.17123288, 0.15753425, 0.15753425, 0.15753425,\n",
            "       0.15753425, 0.17123288, 0.16438356, 0.17123288, 0.17123288,\n",
            "       0.16438356, 0.17808219, 0.15753425, 0.19178082, 0.17808219,\n",
            "       0.17123288, 0.16438356, 0.17808219, 0.17808219, 0.17123288,\n",
            "       0.17808219, 0.17808219, 0.17123288, 0.15753425, 0.1369863 ,\n",
            "       0.14383562, 0.15068493, 0.15753425, 0.15068493, 0.15068493,\n",
            "       0.15753425, 0.16438356, 0.16438356, 0.18493151, 0.18493151,\n",
            "       0.19863014, 0.19178082, 0.19863014, 0.20547945, 0.17808219,\n",
            "       0.17123288, 0.15753425, 0.19863014, 0.17808219, 0.18493151,\n",
            "       0.17808219, 0.17123288, 0.17123288, 0.15753425, 0.16438356,\n",
            "       0.15753425, 0.17123288, 0.15753425, 0.17123288, 0.21232877,\n",
            "       0.23972603, 0.23287671, 0.21232877, 0.24657534, 0.23972603,\n",
            "       0.2260274 , 0.21917808, 0.21232877, 0.21232877, 0.21232877,\n",
            "       0.20547945, 0.19178082, 0.20547945, 0.20547945, 0.19863014,\n",
            "       0.21232877, 0.21232877, 0.2260274 , 0.2260274 , 0.23972603,\n",
            "       0.23972603, 0.23972603, 0.23972603, 0.2260274 , 0.21917808,\n",
            "       0.2260274 , 0.23287671, 0.24657534, 0.25342466, 0.25342466,\n",
            "       0.24657534, 0.24657534, 0.24657534, 0.24657534, 0.24657534,\n",
            "       0.24657534, 0.25342466, 0.25342466, 0.26027397, 0.24657534,\n",
            "       0.25342466, 0.25342466, 0.24657534, 0.25342466, 0.24657534,\n",
            "       0.25342466, 0.26027397, 0.25342466, 0.23972603, 0.25342466,\n",
            "       0.25342466, 0.25342466, 0.24657534, 0.25342466, 0.24657534,\n",
            "       0.25342466, 0.24657534, 0.25342466, 0.24657534, 0.25342466,\n",
            "       0.23972603, 0.24657534, 0.23972603, 0.23287671, 0.23287671,\n",
            "       0.25342466, 0.23287671, 0.23972603, 0.25342466, 0.25342466,\n",
            "       0.24657534, 0.23287671, 0.23287671, 0.25342466, 0.26712329,\n",
            "       0.25342466])]\n",
            "[0.2534246575342465, 0.23972602739726034]\n",
            "\n"
          ]
        }
      ]
    },
    {
      "cell_type": "code",
      "source": [
        "#convert the X_train and y_train to numpy array\n",
        "X_train, y_train = np.array(X_train), np.array(y_train)"
      ],
      "metadata": {
        "id": "RfHzzQ7y4GaX"
      },
      "execution_count": 73,
      "outputs": []
    },
    {
      "cell_type": "code",
      "source": [
        "X_train.shape"
      ],
      "metadata": {
        "colab": {
          "base_uri": "https://localhost:8080/"
        },
        "id": "t-NAp5mk5mCK",
        "outputId": "36c73ff9-ffa5-462f-ba3e-181fb1e3217d"
      },
      "execution_count": 75,
      "outputs": [
        {
          "output_type": "execute_result",
          "data": {
            "text/plain": [
              "(606, 241)"
            ]
          },
          "metadata": {},
          "execution_count": 75
        }
      ]
    },
    {
      "cell_type": "code",
      "source": [
        "#reshape the data into 3D: samples,time steps, features\n",
        "X_train = np.reshape(X_train, (X_train.shape[0],X_train.shape[1],1))\n",
        "X_train.shape"
      ],
      "metadata": {
        "colab": {
          "base_uri": "https://localhost:8080/"
        },
        "id": "ti2MJDAn4bPC",
        "outputId": "1dca3be7-2529-4a97-b9b2-997ec15382fa"
      },
      "execution_count": 76,
      "outputs": [
        {
          "output_type": "execute_result",
          "data": {
            "text/plain": [
              "(606, 241, 1)"
            ]
          },
          "metadata": {},
          "execution_count": 76
        }
      ]
    },
    {
      "cell_type": "markdown",
      "source": [
        "# This code defines a sequential model for a Long Short-Term Memory (LSTM) neural network.\n",
        "\n",
        "# 1. `model = Sequential()`: This line creates an instance of a sequential model.\n",
        "#    Sequential models are linear stacks of layers.\n",
        "\n",
        "# 2. `model.add(LSTM(50, return_sequences=True, input_shape=(X_train.shape[1],1)))`: This adds the first LSTM layer.\n",
        "#    - `LSTM(50)`: This specifies that the LSTM layer has 50 memory cells.\n",
        "#    - `return_sequences=True`: This indicates that the layer should return the full sequence of outputs, not just the last output. This is important for stacking LSTM layers.\n",
        "#    - `input_shape=(X_train.shape[1],1)`: This defines the shape of the input data.\n",
        "#      - `X_train.shape[1]` is the number of time steps in your input data (the length of the sequence).\n",
        "#      - `1` indicates that there is one feature (in this case, the closing price).\n",
        "\n",
        "# 3. `model.add(LSTM(50, return_sequences=False))`: This adds a second LSTM layer.\n",
        "#    - `return_sequences=False`: This means that this layer will only return the last output in the sequence.\n",
        "\n",
        "# 4. `model.add(Dense(25))`: This adds a dense layer with 25 neurons. Dense layers connect every neuron in the previous layer to every neuron in the current layer.\n",
        "\n",
        "# 5. `model.add(Dense(1))`: This adds the final output layer with one neuron. This neuron will predict the closing price."
      ],
      "metadata": {
        "id": "y2yNA7Jz71uj"
      }
    },
    {
      "cell_type": "code",
      "source": [
        "#build the lstm model\n",
        "model = Sequential()\n",
        "model.add(LSTM(50, return_sequences=True, input_shape=(X_train.shape[1],1)))\n",
        "model.add(LSTM(50, return_sequences=False))\n",
        "model.add(Dense(25))\n",
        "model.add(Dense(1))"
      ],
      "metadata": {
        "colab": {
          "base_uri": "https://localhost:8080/"
        },
        "id": "GeM-qxg04cfd",
        "outputId": "e0a3b23a-8a8a-42ae-c9b7-5420178be863"
      },
      "execution_count": 78,
      "outputs": [
        {
          "output_type": "stream",
          "name": "stderr",
          "text": [
            "/usr/local/lib/python3.10/dist-packages/keras/src/layers/rnn/rnn.py:204: UserWarning: Do not pass an `input_shape`/`input_dim` argument to a layer. When using Sequential models, prefer using an `Input(shape)` object as the first layer in the model instead.\n",
            "  super().__init__(**kwargs)\n"
          ]
        }
      ]
    },
    {
      "cell_type": "code",
      "source": [
        "#compile te model\n",
        "model.compile(optimizer='adam',loss='mean_squared_error', metrics=['accuracy'])"
      ],
      "metadata": {
        "id": "iH0b_nfx65Vq"
      },
      "execution_count": 79,
      "outputs": []
    },
    {
      "cell_type": "code",
      "source": [
        "#train the model\n",
        "model.fit(X_train,y_train, batch_size=1, epochs=10)"
      ],
      "metadata": {
        "colab": {
          "base_uri": "https://localhost:8080/"
        },
        "id": "wNWcWIcl7bj5",
        "outputId": "c2a8dc2e-5517-4256-e13a-0bd428ddb1a3"
      },
      "execution_count": 82,
      "outputs": [
        {
          "output_type": "stream",
          "name": "stdout",
          "text": [
            "Epoch 1/10\n",
            "\u001b[1m606/606\u001b[0m \u001b[32m━━━━━━━━━━━━━━━━━━━━\u001b[0m\u001b[37m\u001b[0m \u001b[1m74s\u001b[0m 123ms/step - accuracy: 0.0000e+00 - loss: 4.9646e-04\n",
            "Epoch 2/10\n",
            "\u001b[1m606/606\u001b[0m \u001b[32m━━━━━━━━━━━━━━━━━━━━\u001b[0m\u001b[37m\u001b[0m \u001b[1m81s\u001b[0m 134ms/step - accuracy: 0.0000e+00 - loss: 4.9729e-04\n",
            "Epoch 3/10\n",
            "\u001b[1m606/606\u001b[0m \u001b[32m━━━━━━━━━━━━━━━━━━━━\u001b[0m\u001b[37m\u001b[0m \u001b[1m109s\u001b[0m 179ms/step - accuracy: 0.0000e+00 - loss: 5.1938e-04\n",
            "Epoch 4/10\n",
            "\u001b[1m606/606\u001b[0m \u001b[32m━━━━━━━━━━━━━━━━━━━━\u001b[0m\u001b[37m\u001b[0m \u001b[1m132s\u001b[0m 163ms/step - accuracy: 0.0000e+00 - loss: 6.1443e-04\n",
            "Epoch 5/10\n",
            "\u001b[1m606/606\u001b[0m \u001b[32m━━━━━━━━━━━━━━━━━━━━\u001b[0m\u001b[37m\u001b[0m \u001b[1m119s\u001b[0m 125ms/step - accuracy: 0.0000e+00 - loss: 5.5026e-04\n",
            "Epoch 6/10\n",
            "\u001b[1m606/606\u001b[0m \u001b[32m━━━━━━━━━━━━━━━━━━━━\u001b[0m\u001b[37m\u001b[0m \u001b[1m74s\u001b[0m 123ms/step - accuracy: 0.0000e+00 - loss: 4.4636e-04\n",
            "Epoch 7/10\n",
            "\u001b[1m606/606\u001b[0m \u001b[32m━━━━━━━━━━━━━━━━━━━━\u001b[0m\u001b[37m\u001b[0m \u001b[1m80s\u001b[0m 119ms/step - accuracy: 0.0000e+00 - loss: 6.4026e-04\n",
            "Epoch 8/10\n",
            "\u001b[1m606/606\u001b[0m \u001b[32m━━━━━━━━━━━━━━━━━━━━\u001b[0m\u001b[37m\u001b[0m \u001b[1m79s\u001b[0m 114ms/step - accuracy: 0.0000e+00 - loss: 5.1446e-04\n",
            "Epoch 9/10\n",
            "\u001b[1m606/606\u001b[0m \u001b[32m━━━━━━━━━━━━━━━━━━━━\u001b[0m\u001b[37m\u001b[0m \u001b[1m83s\u001b[0m 116ms/step - accuracy: 0.0000e+00 - loss: 7.1225e-04\n",
            "Epoch 10/10\n",
            "\u001b[1m606/606\u001b[0m \u001b[32m━━━━━━━━━━━━━━━━━━━━\u001b[0m\u001b[37m\u001b[0m \u001b[1m82s\u001b[0m 117ms/step - accuracy: 0.0000e+00 - loss: 5.0474e-04\n"
          ]
        },
        {
          "output_type": "execute_result",
          "data": {
            "text/plain": [
              "<keras.src.callbacks.history.History at 0x785541122770>"
            ]
          },
          "metadata": {},
          "execution_count": 82
        }
      ]
    },
    {
      "cell_type": "code",
      "source": [],
      "metadata": {
        "id": "1eR6KKmg7ldY"
      },
      "execution_count": null,
      "outputs": []
    },
    {
      "cell_type": "code",
      "source": [
        "#creating test dataset\n",
        "test_data = scaled_data[training_data_len-641:,:]\n",
        "#get the X_test,y_test\n",
        "X_test = []\n",
        "y_test = []\n",
        "for i in range(641, len(test_data)):\n",
        "  X_test.append(test_data[i-641:i,0])\n",
        "  y_test.append(test_data[i,0])\n",
        "  # if i<=642:\n",
        "  #   print(X_test)\n",
        "  #   print(y_test)\n",
        "  #   print()"
      ],
      "metadata": {
        "id": "EhZKyPrbHqZY"
      },
      "execution_count": 96,
      "outputs": []
    },
    {
      "cell_type": "code",
      "source": [
        "X_test = np.array(X_test)\n"
      ],
      "metadata": {
        "id": "uTz0lPLTKyTh"
      },
      "execution_count": 88,
      "outputs": []
    },
    {
      "cell_type": "code",
      "source": [
        "#reshape the x_test\n",
        "X_test = np.reshape(X_test, (X_test.shape[0],X_test.shape[1],1))\n",
        "X_test.shape"
      ],
      "metadata": {
        "colab": {
          "base_uri": "https://localhost:8080/"
        },
        "id": "IhtrRGrTK1SG",
        "outputId": "00cd268c-0271-4dff-8b86-0d617ecb43e5"
      },
      "execution_count": 89,
      "outputs": [
        {
          "output_type": "execute_result",
          "data": {
            "text/plain": [
              "(311, 641, 1)"
            ]
          },
          "metadata": {},
          "execution_count": 89
        }
      ]
    },
    {
      "cell_type": "code",
      "source": [
        "#get the models predicted price values\n",
        "predictions = model.predict(X_test)\n",
        "predictions = scaler.inverse_transform(predictions)"
      ],
      "metadata": {
        "colab": {
          "base_uri": "https://localhost:8080/"
        },
        "id": "alUshPSqLXM2",
        "outputId": "44a623c2-e09e-4ce5-bce6-fc2b636cf8bb"
      },
      "execution_count": 90,
      "outputs": [
        {
          "output_type": "stream",
          "name": "stdout",
          "text": [
            "\u001b[1m10/10\u001b[0m \u001b[32m━━━━━━━━━━━━━━━━━━━━\u001b[0m\u001b[37m\u001b[0m \u001b[1m2s\u001b[0m 158ms/step\n"
          ]
        }
      ]
    },
    {
      "cell_type": "code",
      "source": [
        "#Evaluate the model using the root mean squared error rmse\n",
        "rmse = np.sqrt(np.mean(predictions-y_test)**2)\n",
        "rmse"
      ],
      "metadata": {
        "colab": {
          "base_uri": "https://localhost:8080/"
        },
        "id": "cVMAVbJIL576",
        "outputId": "7b4e6cde-b89a-4a1d-b42b-921f9a619397"
      },
      "execution_count": 98,
      "outputs": [
        {
          "output_type": "execute_result",
          "data": {
            "text/plain": [
              "1.053833708628492"
            ]
          },
          "metadata": {},
          "execution_count": 98
        }
      ]
    },
    {
      "cell_type": "code",
      "source": [
        "#Evaluate the model using the root mean squared error rmse\n",
        "mse = mean_squared_error(y_test, predictions)\n",
        "mae = mean_absolute_error(y_test, predictions)\n",
        "r2 = r2_score(y_test, predictions)\n",
        "print(f\"Mean Squared Error: {mse}\")\n",
        "print(f\"Mean Absolute Error: {mae}\")\n",
        "print(f\"r2 : {mse}\")\n"
      ],
      "metadata": {
        "colab": {
          "base_uri": "https://localhost:8080/"
        },
        "id": "zoVnD9yWL6uw",
        "outputId": "b3749e39-5674-4353-c916-b17050150451"
      },
      "execution_count": 97,
      "outputs": [
        {
          "output_type": "stream",
          "name": "stdout",
          "text": [
            "Mean Squared Error: 1.1147598514696404\n",
            "Mean Absolute Error: 1.0538337086284917\n",
            "r2 : 1.1147598514696404\n"
          ]
        }
      ]
    },
    {
      "cell_type": "code",
      "source": [
        "#plot the data\n",
        "train = data[:training_data_len]\n",
        "valid = data[training_data_len:]\n",
        "valid['predictions'] = predictions\n",
        "plt.figure(figsize = (16,8))\n",
        "plt.plot(train['Date'],train[' Close'])\n",
        "plt.plot(valid['Date'],valid[[' Close','predictions']])\n",
        "plt.legend(['Train','valid','predictions'],loc='upper right')\n",
        "plt.xlabel('Date', fontsize=18)\n",
        "plt.ylabel('Closing Price (KSH)',fontsize=18)\n",
        "plt.title(\"Closing price model\")\n",
        "plt.grid()\n",
        "#add a dark background to the chart\n",
        "\n",
        "plt.show()\n"
      ],
      "metadata": {
        "colab": {
          "base_uri": "https://localhost:8080/",
          "height": 620
        },
        "id": "RsbbRmMKNmAQ",
        "outputId": "081789f7-4e08-4738-adf5-165b5630154e"
      },
      "execution_count": 130,
      "outputs": [
        {
          "output_type": "stream",
          "name": "stderr",
          "text": [
            "<ipython-input-130-76229694957f>:4: SettingWithCopyWarning: \n",
            "A value is trying to be set on a copy of a slice from a DataFrame.\n",
            "Try using .loc[row_indexer,col_indexer] = value instead\n",
            "\n",
            "See the caveats in the documentation: https://pandas.pydata.org/pandas-docs/stable/user_guide/indexing.html#returning-a-view-versus-a-copy\n",
            "  valid['predictions'] = predictions\n"
          ]
        },
        {
          "output_type": "display_data",
          "data": {
            "text/plain": [
              "<Figure size 1600x800 with 1 Axes>"
            ],
            "image/png": "[encoded data removed]"
          },
          "metadata": {}
        }
      ]
    },
    {
      "cell_type": "code",
      "source": [
        "valid"
      ],
      "metadata": {
        "colab": {
          "base_uri": "https://localhost:8080/",
          "height": 424
        },
        "id": "nk755f1IQN--",
        "outputId": "d37d8c4c-7174-48c6-ebe4-a7843c4c83ee"
      },
      "execution_count": 107,
      "outputs": [
        {
          "output_type": "execute_result",
          "data": {
            "text/plain": [
              "           Date   Open   High   Low   Close    Volume  predictions\n",
              "1247 2019-08-23   1.46   1.55  1.45    1.46   9851000     1.466813\n",
              "1248 2019-08-22   1.54   1.55  1.50    1.54     71400     1.442546\n",
              "1249 2019-08-21   1.45   1.56  1.45    1.45  26520600     1.491744\n",
              "1250 2019-08-20   1.43   1.55  1.40    1.43  28256000     1.432056\n",
              "1251 2019-08-19   1.41   1.55  1.40    1.41   6923400     1.415758\n",
              "...         ...    ...    ...   ...     ...       ...          ...\n",
              "1553 2018-06-05   2.19   2.21  2.13    2.19     88800     2.060664\n",
              "1554 2018-06-04   2.14   2.22  2.08    2.14  16617600     2.092602\n",
              "1555 2018-05-31   2.21   2.25  2.21    2.21    725600     2.079749\n",
              "1556 2018-05-30   2.23   2.25  2.21    2.23    105600     2.110057\n",
              "1557 2018-05-29   2.21   2.24  2.21    2.21   8368800     2.133723\n",
              "\n",
              "[311 rows x 7 columns]"
            ],
            "text/html": [
              "\n",
              "  <div id=\"df-f5e627bd-c5ac-460f-8302-084084facc67\" class=\"colab-df-container\">\n",
              "    <div>\n",
              "<style scoped>\n",
              "    .dataframe tbody tr th:only-of-type {\n",
              "        vertical-align: middle;\n",
              "    }\n",
              "\n",
              "    .dataframe tbody tr th {\n",
              "        vertical-align: top;\n",
              "    }\n",
              "\n",
              "    .dataframe thead th {\n",
              "        text-align: right;\n",
              "    }\n",
              "</style>\n",
              "<table border=\"1\" class=\"dataframe\">\n",
              "  <thead>\n",
              "    <tr style=\"text-align: right;\">\n",
              "      <th></th>\n",
              "      <th>Date</th>\n",
              "      <th>Open</th>\n",
              "      <th>High</th>\n",
              "      <th>Low</th>\n",
              "      <th>Close</th>\n",
              "      <th>Volume</th>\n",
              "      <th>predictions</th>\n",
              "    </tr>\n",
              "  </thead>\n",
              "  <tbody>\n",
              "    <tr>\n",
              "      <th>1247</th>\n",
              "      <td>2019-08-23</td>\n",
              "      <td>1.46</td>\n",
              "      <td>1.55</td>\n",
              "      <td>1.45</td>\n",
              "      <td>1.46</td>\n",
              "      <td>9851000</td>\n",
              "      <td>1.466813</td>\n",
              "    </tr>\n",
              "    <tr>\n",
              "      <th>1248</th>\n",
              "      <td>2019-08-22</td>\n",
              "      <td>1.54</td>\n",
              "      <td>1.55</td>\n",
              "      <td>1.50</td>\n",
              "      <td>1.54</td>\n",
              "      <td>71400</td>\n",
              "      <td>1.442546</td>\n",
              "    </tr>\n",
              "    <tr>\n",
              "      <th>1249</th>\n",
              "      <td>2019-08-21</td>\n",
              "      <td>1.45</td>\n",
              "      <td>1.56</td>\n",
              "      <td>1.45</td>\n",
              "      <td>1.45</td>\n",
              "      <td>26520600</td>\n",
              "      <td>1.491744</td>\n",
              "    </tr>\n",
              "    <tr>\n",
              "      <th>1250</th>\n",
              "      <td>2019-08-20</td>\n",
              "      <td>1.43</td>\n",
              "      <td>1.55</td>\n",
              "      <td>1.40</td>\n",
              "      <td>1.43</td>\n",
              "      <td>28256000</td>\n",
              "      <td>1.432056</td>\n",
              "    </tr>\n",
              "    <tr>\n",
              "      <th>1251</th>\n",
              "      <td>2019-08-19</td>\n",
              "      <td>1.41</td>\n",
              "      <td>1.55</td>\n",
              "      <td>1.40</td>\n",
              "      <td>1.41</td>\n",
              "      <td>6923400</td>\n",
              "      <td>1.415758</td>\n",
              "    </tr>\n",
              "    <tr>\n",
              "      <th>...</th>\n",
              "      <td>...</td>\n",
              "      <td>...</td>\n",
              "      <td>...</td>\n",
              "      <td>...</td>\n",
              "      <td>...</td>\n",
              "      <td>...</td>\n",
              "      <td>...</td>\n",
              "    </tr>\n",
              "    <tr>\n",
              "      <th>1553</th>\n",
              "      <td>2018-06-05</td>\n",
              "      <td>2.19</td>\n",
              "      <td>2.21</td>\n",
              "      <td>2.13</td>\n",
              "      <td>2.19</td>\n",
              "      <td>88800</td>\n",
              "      <td>2.060664</td>\n",
              "    </tr>\n",
              "    <tr>\n",
              "      <th>1554</th>\n",
              "      <td>2018-06-04</td>\n",
              "      <td>2.14</td>\n",
              "      <td>2.22</td>\n",
              "      <td>2.08</td>\n",
              "      <td>2.14</td>\n",
              "      <td>16617600</td>\n",
              "      <td>2.092602</td>\n",
              "    </tr>\n",
              "    <tr>\n",
              "      <th>1555</th>\n",
              "      <td>2018-05-31</td>\n",
              "      <td>2.21</td>\n",
              "      <td>2.25</td>\n",
              "      <td>2.21</td>\n",
              "      <td>2.21</td>\n",
              "      <td>725600</td>\n",
              "      <td>2.079749</td>\n",
              "    </tr>\n",
              "    <tr>\n",
              "      <th>1556</th>\n",
              "      <td>2018-05-30</td>\n",
              "      <td>2.23</td>\n",
              "      <td>2.25</td>\n",
              "      <td>2.21</td>\n",
              "      <td>2.23</td>\n",
              "      <td>105600</td>\n",
              "      <td>2.110057</td>\n",
              "    </tr>\n",
              "    <tr>\n",
              "      <th>1557</th>\n",
              "      <td>2018-05-29</td>\n",
              "      <td>2.21</td>\n",
              "      <td>2.24</td>\n",
              "      <td>2.21</td>\n",
              "      <td>2.21</td>\n",
              "      <td>8368800</td>\n",
              "      <td>2.133723</td>\n",
              "    </tr>\n",
              "  </tbody>\n",
              "</table>\n",
              "<p>311 rows × 7 columns</p>\n",
              "</div>\n",
              "    <div class=\"colab-df-buttons\">\n",
              "\n",
              "  <div class=\"colab-df-container\">\n",
              "    <button class=\"colab-df-convert\" onclick=\"convertToInteractive('df-f5e627bd-c5ac-460f-8302-084084facc67')\"\n",
              "            title=\"Convert this dataframe to an interactive table.\"\n",
              "            style=\"display:none;\">\n",
              "\n",
              "  <svg xmlns=\"http://www.w3.org/2000/svg\" height=\"24px\" viewBox=\"0 -960 960 960\">\n",
              "    <path d=\"M120-120v-720h720v720H120Zm60-500h600v-160H180v160Zm220 220h160v-160H400v160Zm0 220h160v-160H400v160ZM180-400h160v-160H180v160Zm440 0h160v-160H620v160ZM180-180h160v-160H180v160Zm440 0h160v-160H620v160Z\"/>\n",
              "  </svg>\n",
              "    </button>\n",
              "\n",
              "  <style>\n",
              "    .colab-df-container {\n",
              "      display:flex;\n",
              "      gap: 12px;\n",
              "    }\n",
              "\n",
              "    .colab-df-convert {\n",
              "      background-color: #E8F0FE;\n",
              "      border: none;\n",
              "      border-radius: 50%;\n",
              "      cursor: pointer;\n",
              "      display: none;\n",
              "      fill: #1967D2;\n",
              "      height: 32px;\n",
              "      padding: 0 0 0 0;\n",
              "      width: 32px;\n",
              "    }\n",
              "\n",
              "    .colab-df-convert:hover {\n",
              "      background-color: #E2EBFA;\n",
              "      box-shadow: 0px 1px 2px rgba(60, 64, 67, 0.3), 0px 1px 3px 1px rgba(60, 64, 67, 0.15);\n",
              "      fill: #174EA6;\n",
              "    }\n",
              "\n",
              "    .colab-df-buttons div {\n",
              "      margin-bottom: 4px;\n",
              "    }\n",
              "\n",
              "    [theme=dark] .colab-df-convert {\n",
              "      background-color: #3B4455;\n",
              "      fill: #D2E3FC;\n",
              "    }\n",
              "\n",
              "    [theme=dark] .colab-df-convert:hover {\n",
              "      background-color: #434B5C;\n",
              "      box-shadow: 0px 1px 3px 1px rgba(0, 0, 0, 0.15);\n",
              "      filter: drop-shadow(0px 1px 2px rgba(0, 0, 0, 0.3));\n",
              "      fill: #FFFFFF;\n",
              "    }\n",
              "  </style>\n",
              "\n",
              "    <script>\n",
              "      const buttonEl =\n",
              "        document.querySelector('#df-f5e627bd-c5ac-460f-8302-084084facc67 button.colab-df-convert');\n",
              "      buttonEl.style.display =\n",
              "        google.colab.kernel.accessAllowed ? 'block' : 'none';\n",
              "\n",
              "      async function convertToInteractive(key) {\n",
              "        const element = document.querySelector('#df-f5e627bd-c5ac-460f-8302-084084facc67');\n",
              "        const dataTable =\n",
              "          await google.colab.kernel.invokeFunction('convertToInteractive',\n",
              "                                                    [key], {});\n",
              "        if (!dataTable) return;\n",
              "\n",
              "        const docLinkHtml = 'Like what you see? Visit the ' +\n",
              "          '<a target=\"_blank\" href=https://colab.research.google.com/notebooks/data_table.ipynb>data table notebook</a>'\n",
              "          + ' to learn more about interactive tables.';\n",
              "        element.innerHTML = '';\n",
              "        dataTable['output_type'] = 'display_data';\n",
              "        await google.colab.output.renderOutput(dataTable, element);\n",
              "        const docLink = document.createElement('div');\n",
              "        docLink.innerHTML = docLinkHtml;\n",
              "        element.appendChild(docLink);\n",
              "      }\n",
              "    </script>\n",
              "  </div>\n",
              "\n",
              "\n",
              "<div id=\"df-3d7cfcb4-530e-4a07-aeca-5cbc41e7a4ec\">\n",
              "  <button class=\"colab-df-quickchart\" onclick=\"quickchart('df-3d7cfcb4-530e-4a07-aeca-5cbc41e7a4ec')\"\n",
              "            title=\"Suggest charts\"\n",
              "            style=\"display:none;\">\n",
              "\n",
              "<svg xmlns=\"http://www.w3.org/2000/svg\" height=\"24px\"viewBox=\"0 0 24 24\"\n",
              "     width=\"24px\">\n",
              "    <g>\n",
              "        <path d=\"M19 3H5c-1.1 0-2 .9-2 2v14c0 1.1.9 2 2 2h14c1.1 0 2-.9 2-2V5c0-1.1-.9-2-2-2zM9 17H7v-7h2v7zm4 0h-2V7h2v10zm4 0h-2v-4h2v4z\"/>\n",
              "    </g>\n",
              "</svg>\n",
              "  </button>\n",
              "\n",
              "<style>\n",
              "  .colab-df-quickchart {\n",
              "      --bg-color: #E8F0FE;\n",
              "      --fill-color: #1967D2;\n",
              "      --hover-bg-color: #E2EBFA;\n",
              "      --hover-fill-color: #174EA6;\n",
              "      --disabled-fill-color: #AAA;\n",
              "      --disabled-bg-color: #DDD;\n",
              "  }\n",
              "\n",
              "  [theme=dark] .colab-df-quickchart {\n",
              "      --bg-color: #3B4455;\n",
              "      --fill-color: #D2E3FC;\n",
              "      --hover-bg-color: #434B5C;\n",
              "      --hover-fill-color: #FFFFFF;\n",
              "      --disabled-bg-color: #3B4455;\n",
              "      --disabled-fill-color: #666;\n",
              "  }\n",
              "\n",
              "  .colab-df-quickchart {\n",
              "    background-color: var(--bg-color);\n",
              "    border: none;\n",
              "    border-radius: 50%;\n",
              "    cursor: pointer;\n",
              "    display: none;\n",
              "    fill: var(--fill-color);\n",
              "    height: 32px;\n",
              "    padding: 0;\n",
              "    width: 32px;\n",
              "  }\n",
              "\n",
              "  .colab-df-quickchart:hover {\n",
              "    background-color: var(--hover-bg-color);\n",
              "    box-shadow: 0 1px 2px rgba(60, 64, 67, 0.3), 0 1px 3px 1px rgba(60, 64, 67, 0.15);\n",
              "    fill: var(--button-hover-fill-color);\n",
              "  }\n",
              "\n",
              "  .colab-df-quickchart-complete:disabled,\n",
              "  .colab-df-quickchart-complete:disabled:hover {\n",
              "    background-color: var(--disabled-bg-color);\n",
              "    fill: var(--disabled-fill-color);\n",
              "    box-shadow: none;\n",
              "  }\n",
              "\n",
              "  .colab-df-spinner {\n",
              "    border: 2px solid var(--fill-color);\n",
              "    border-color: transparent;\n",
              "    border-bottom-color: var(--fill-color);\n",
              "    animation:\n",
              "      spin 1s steps(1) infinite;\n",
              "  }\n",
              "\n",
              "  @keyframes spin {\n",
              "    0% {\n",
              "      border-color: transparent;\n",
              "      border-bottom-color: var(--fill-color);\n",
              "      border-left-color: var(--fill-color);\n",
              "    }\n",
              "    20% {\n",
              "      border-color: transparent;\n",
              "      border-left-color: var(--fill-color);\n",
              "      border-top-color: var(--fill-color);\n",
              "    }\n",
              "    30% {\n",
              "      border-color: transparent;\n",
              "      border-left-color: var(--fill-color);\n",
              "      border-top-color: var(--fill-color);\n",
              "      border-right-color: var(--fill-color);\n",
              "    }\n",
              "    40% {\n",
              "      border-color: transparent;\n",
              "      border-right-color: var(--fill-color);\n",
              "      border-top-color: var(--fill-color);\n",
              "    }\n",
              "    60% {\n",
              "      border-color: transparent;\n",
              "      border-right-color: var(--fill-color);\n",
              "    }\n",
              "    80% {\n",
              "      border-color: transparent;\n",
              "      border-right-color: var(--fill-color);\n",
              "      border-bottom-color: var(--fill-color);\n",
              "    }\n",
              "    90% {\n",
              "      border-color: transparent;\n",
              "      border-bottom-color: var(--fill-color);\n",
              "    }\n",
              "  }\n",
              "</style>\n",
              "\n",
              "  <script>\n",
              "    async function quickchart(key) {\n",
              "      const quickchartButtonEl =\n",
              "        document.querySelector('#' + key + ' button');\n",
              "      quickchartButtonEl.disabled = true;  // To prevent multiple clicks.\n",
              "      quickchartButtonEl.classList.add('colab-df-spinner');\n",
              "      try {\n",
              "        const charts = await google.colab.kernel.invokeFunction(\n",
              "            'suggestCharts', [key], {});\n",
              "      } catch (error) {\n",
              "        console.error('Error during call to suggestCharts:', error);\n",
              "      }\n",
              "      quickchartButtonEl.classList.remove('colab-df-spinner');\n",
              "      quickchartButtonEl.classList.add('colab-df-quickchart-complete');\n",
              "    }\n",
              "    (() => {\n",
              "      let quickchartButtonEl =\n",
              "        document.querySelector('#df-3d7cfcb4-530e-4a07-aeca-5cbc41e7a4ec button');\n",
              "      quickchartButtonEl.style.display =\n",
              "        google.colab.kernel.accessAllowed ? 'block' : 'none';\n",
              "    })();\n",
              "  </script>\n",
              "</div>\n",
              "\n",
              "  <div id=\"id_779b992e-1052-4664-8db0-ed1cd82a6730\">\n",
              "    <style>\n",
              "      .colab-df-generate {\n",
              "        background-color: #E8F0FE;\n",
              "        border: none;\n",
              "        border-radius: 50%;\n",
              "        cursor: pointer;\n",
              "        display: none;\n",
              "        fill: #1967D2;\n",
              "        height: 32px;\n",
              "        padding: 0 0 0 0;\n",
              "        width: 32px;\n",
              "      }\n",
              "\n",
              "      .colab-df-generate:hover {\n",
              "        background-color: #E2EBFA;\n",
              "        box-shadow: 0px 1px 2px rgba(60, 64, 67, 0.3), 0px 1px 3px 1px rgba(60, 64, 67, 0.15);\n",
              "        fill: #174EA6;\n",
              "      }\n",
              "\n",
              "      [theme=dark] .colab-df-generate {\n",
              "        background-color: #3B4455;\n",
              "        fill: #D2E3FC;\n",
              "      }\n",
              "\n",
              "      [theme=dark] .colab-df-generate:hover {\n",
              "        background-color: #434B5C;\n",
              "        box-shadow: 0px 1px 3px 1px rgba(0, 0, 0, 0.15);\n",
              "        filter: drop-shadow(0px 1px 2px rgba(0, 0, 0, 0.3));\n",
              "        fill: #FFFFFF;\n",
              "      }\n",
              "    </style>\n",
              "    <button class=\"colab-df-generate\" onclick=\"generateWithVariable('valid')\"\n",
              "            title=\"Generate code using this dataframe.\"\n",
              "            style=\"display:none;\">\n",
              "\n",
              "  <svg xmlns=\"http://www.w3.org/2000/svg\" height=\"24px\"viewBox=\"0 0 24 24\"\n",
              "       width=\"24px\">\n",
              "    <path d=\"M7,19H8.4L18.45,9,17,7.55,7,17.6ZM5,21V16.75L18.45,3.32a2,2,0,0,1,2.83,0l1.4,1.43a1.91,1.91,0,0,1,.58,1.4,1.91,1.91,0,0,1-.58,1.4L9.25,21ZM18.45,9,17,7.55Zm-12,3A5.31,5.31,0,0,0,4.9,8.1,5.31,5.31,0,0,0,1,6.5,5.31,5.31,0,0,0,4.9,4.9,5.31,5.31,0,0,0,6.5,1,5.31,5.31,0,0,0,8.1,4.9,5.31,5.31,0,0,0,12,6.5,5.46,5.46,0,0,0,6.5,12Z\"/>\n",
              "  </svg>\n",
              "    </button>\n",
              "    <script>\n",
              "      (() => {\n",
              "      const buttonEl =\n",
              "        document.querySelector('#id_779b992e-1052-4664-8db0-ed1cd82a6730 button.colab-df-generate');\n",
              "      buttonEl.style.display =\n",
              "        google.colab.kernel.accessAllowed ? 'block' : 'none';\n",
              "\n",
              "      buttonEl.onclick = () => {\n",
              "        google.colab.notebook.generateWithVariable('valid');\n",
              "      }\n",
              "      })();\n",
              "    </script>\n",
              "  </div>\n",
              "\n",
              "    </div>\n",
              "  </div>\n"
            ],
            "application/vnd.google.colaboratory.intrinsic+json": {
              "type": "dataframe",
              "variable_name": "valid",
              "summary": "{\n  \"name\": \"valid\",\n  \"rows\": 311,\n  \"fields\": [\n    {\n      \"column\": \"Date\",\n      \"properties\": {\n        \"dtype\": \"date\",\n        \"min\": \"2018-05-29 00:00:00\",\n        \"max\": \"2019-08-23 00:00:00\",\n        \"num_unique_values\": 311,\n        \"samples\": [\n          \"2018-06-28 00:00:00\",\n          \"2019-08-09 00:00:00\",\n          \"2019-06-03 00:00:00\"\n        ],\n        \"semantic_type\": \"\",\n        \"description\": \"\"\n      }\n    },\n    {\n      \"column\": \" Open\",\n      \"properties\": {\n        \"dtype\": \"number\",\n        \"std\": 0.2115752409050959,\n        \"min\": 1.34,\n        \"max\": 2.23,\n        \"num_unique_values\": 64,\n        \"samples\": [\n          2.04,\n          2.07,\n          1.46\n        ],\n        \"semantic_type\": \"\",\n        \"description\": \"\"\n      }\n    },\n    {\n      \"column\": \" High\",\n      \"properties\": {\n        \"dtype\": \"number\",\n        \"std\": 0.3554340673117699,\n        \"min\": 1.36,\n        \"max\": 6.95,\n        \"num_unique_values\": 70,\n        \"samples\": [\n          1.8,\n          1.55,\n          1.91\n        ],\n        \"semantic_type\": \"\",\n        \"description\": \"\"\n      }\n    },\n    {\n      \"column\": \" Low\",\n      \"properties\": {\n        \"dtype\": \"number\",\n        \"std\": 0.2111748663746758,\n        \"min\": 1.31,\n        \"max\": 2.21,\n        \"num_unique_values\": 57,\n        \"samples\": [\n          1.45,\n          1.66,\n          1.34\n        ],\n        \"semantic_type\": \"\",\n        \"description\": \"\"\n      }\n    },\n    {\n      \"column\": \" Close\",\n      \"properties\": {\n        \"dtype\": \"number\",\n        \"std\": 0.2115752409050959,\n        \"min\": 1.34,\n        \"max\": 2.23,\n        \"num_unique_values\": 64,\n        \"samples\": [\n          2.04,\n          2.07,\n          1.46\n        ],\n        \"semantic_type\": \"\",\n        \"description\": \"\"\n      }\n    },\n    {\n      \"column\": \" Volume\",\n      \"properties\": {\n        \"dtype\": \"number\",\n        \"std\": 6562628,\n        \"min\": 4800,\n        \"max\": 64064800,\n        \"num_unique_values\": 280,\n        \"samples\": [\n          82400,\n          287200,\n          260000\n        ],\n        \"semantic_type\": \"\",\n        \"description\": \"\"\n      }\n    },\n    {\n      \"column\": \"predictions\",\n      \"properties\": {\n        \"dtype\": \"float32\",\n        \"num_unique_values\": 311,\n        \"samples\": [\n          1.9320751428604126,\n          1.5127345323562622,\n          1.7783268690109253\n        ],\n        \"semantic_type\": \"\",\n        \"description\": \"\"\n      }\n    }\n  ]\n}"
            }
          },
          "metadata": {},
          "execution_count": 107
        }
      ]
    },
    {
      "cell_type": "code",
      "source": [],
      "metadata": {
        "id": "688T1ysZQO5X"
      },
      "execution_count": null,
      "outputs": []
    }
  ]
}